{
 "cells": [
  {
   "cell_type": "markdown",
   "metadata": {},
   "source": [
    "https://pandas.pydata.org/docs/user_guide/10min.html"
   ]
  },
  {
   "cell_type": "code",
   "execution_count": 1,
   "metadata": {},
   "outputs": [],
   "source": [
    "import pandas as pd\n",
    "import numpy as np\n",
    "import matplotlib.pyplot as plt\n",
    "# import plotly.express as px\n",
    "\n",
    "from wt_import import Wt_Importer\n"
   ]
  },
  {
   "cell_type": "markdown",
   "metadata": {},
   "source": [
    "Set file for analysis"
   ]
  },
  {
   "cell_type": "code",
   "execution_count": 2,
   "metadata": {},
   "outputs": [
    {
     "data": {
      "text/html": [
       "<div>\n",
       "<style scoped>\n",
       "    .dataframe tbody tr th:only-of-type {\n",
       "        vertical-align: middle;\n",
       "    }\n",
       "\n",
       "    .dataframe tbody tr th {\n",
       "        vertical-align: top;\n",
       "    }\n",
       "\n",
       "    .dataframe thead th {\n",
       "        text-align: right;\n",
       "    }\n",
       "</style>\n",
       "<table border=\"1\" class=\"dataframe\">\n",
       "  <thead>\n",
       "    <tr style=\"text-align: right;\">\n",
       "      <th></th>\n",
       "      <th>Store No.</th>\n",
       "      <th>Date</th>\n",
       "      <th>Time</th>\n",
       "      <th>Millisecond</th>\n",
       "      <th>U-1-Total</th>\n",
       "      <th>I-1-Total</th>\n",
       "      <th>P-1-Total</th>\n",
       "      <th>S-1-Total</th>\n",
       "      <th>Q-1-Total</th>\n",
       "      <th>PF-1-Total</th>\n",
       "      <th>...</th>\n",
       "      <th>CfU-1-Total</th>\n",
       "      <th>CfI-1-Total</th>\n",
       "      <th>I-2-Total</th>\n",
       "      <th>P-2-Total</th>\n",
       "      <th>S-2-Total</th>\n",
       "      <th>Q-2-Total</th>\n",
       "      <th>PF-2-Total</th>\n",
       "      <th>Phi-2-Total</th>\n",
       "      <th>FreqU-2-Total</th>\n",
       "      <th>FreqI-2-Total</th>\n",
       "    </tr>\n",
       "  </thead>\n",
       "  <tbody>\n",
       "    <tr>\n",
       "      <th>1</th>\n",
       "      <td>1</td>\n",
       "      <td>2022/04/04</td>\n",
       "      <td>12:02:59</td>\n",
       "      <td>354</td>\n",
       "      <td>120.640</td>\n",
       "      <td>20.793</td>\n",
       "      <td>2510.0</td>\n",
       "      <td>2510.0</td>\n",
       "      <td>-41.2</td>\n",
       "      <td>0.99986</td>\n",
       "      <td>...</td>\n",
       "      <td>NaN</td>\n",
       "      <td>NaN</td>\n",
       "      <td>20.870</td>\n",
       "      <td>2520.0</td>\n",
       "      <td>2520.0</td>\n",
       "      <td>-33.2</td>\n",
       "      <td>0.99991</td>\n",
       "      <td>-0.757</td>\n",
       "      <td>60.001</td>\n",
       "      <td>59.996</td>\n",
       "    </tr>\n",
       "    <tr>\n",
       "      <th>2</th>\n",
       "      <td>2</td>\n",
       "      <td>2022/04/04</td>\n",
       "      <td>12:02:59</td>\n",
       "      <td>854</td>\n",
       "      <td>120.637</td>\n",
       "      <td>20.760</td>\n",
       "      <td>2500.0</td>\n",
       "      <td>2500.0</td>\n",
       "      <td>-42.5</td>\n",
       "      <td>0.99986</td>\n",
       "      <td>...</td>\n",
       "      <td>NaN</td>\n",
       "      <td>NaN</td>\n",
       "      <td>20.898</td>\n",
       "      <td>2520.0</td>\n",
       "      <td>2520.0</td>\n",
       "      <td>-33.2</td>\n",
       "      <td>0.99991</td>\n",
       "      <td>-0.754</td>\n",
       "      <td>60.002</td>\n",
       "      <td>60.004</td>\n",
       "    </tr>\n",
       "    <tr>\n",
       "      <th>3</th>\n",
       "      <td>3</td>\n",
       "      <td>2022/04/04</td>\n",
       "      <td>12:03:00</td>\n",
       "      <td>353</td>\n",
       "      <td>120.642</td>\n",
       "      <td>20.777</td>\n",
       "      <td>2500.0</td>\n",
       "      <td>2500.0</td>\n",
       "      <td>-40.8</td>\n",
       "      <td>0.99987</td>\n",
       "      <td>...</td>\n",
       "      <td>NaN</td>\n",
       "      <td>NaN</td>\n",
       "      <td>20.867</td>\n",
       "      <td>2510.0</td>\n",
       "      <td>2510.0</td>\n",
       "      <td>-32.8</td>\n",
       "      <td>0.99992</td>\n",
       "      <td>-0.747</td>\n",
       "      <td>60.001</td>\n",
       "      <td>59.999</td>\n",
       "    </tr>\n",
       "    <tr>\n",
       "      <th>4</th>\n",
       "      <td>4</td>\n",
       "      <td>2022/04/04</td>\n",
       "      <td>12:03:00</td>\n",
       "      <td>852</td>\n",
       "      <td>120.634</td>\n",
       "      <td>20.789</td>\n",
       "      <td>2500.0</td>\n",
       "      <td>2510.0</td>\n",
       "      <td>-41.8</td>\n",
       "      <td>0.99986</td>\n",
       "      <td>...</td>\n",
       "      <td>NaN</td>\n",
       "      <td>NaN</td>\n",
       "      <td>20.886</td>\n",
       "      <td>2520.0</td>\n",
       "      <td>2520.0</td>\n",
       "      <td>-32.3</td>\n",
       "      <td>0.99992</td>\n",
       "      <td>-0.736</td>\n",
       "      <td>60.000</td>\n",
       "      <td>59.999</td>\n",
       "    </tr>\n",
       "    <tr>\n",
       "      <th>5</th>\n",
       "      <td>5</td>\n",
       "      <td>2022/04/04</td>\n",
       "      <td>12:03:01</td>\n",
       "      <td>353</td>\n",
       "      <td>120.624</td>\n",
       "      <td>20.806</td>\n",
       "      <td>2510.0</td>\n",
       "      <td>2510.0</td>\n",
       "      <td>-42.0</td>\n",
       "      <td>0.99986</td>\n",
       "      <td>...</td>\n",
       "      <td>NaN</td>\n",
       "      <td>NaN</td>\n",
       "      <td>20.876</td>\n",
       "      <td>2520.0</td>\n",
       "      <td>2520.0</td>\n",
       "      <td>-34.8</td>\n",
       "      <td>0.99990</td>\n",
       "      <td>-0.792</td>\n",
       "      <td>60.002</td>\n",
       "      <td>59.998</td>\n",
       "    </tr>\n",
       "  </tbody>\n",
       "</table>\n",
       "<p>5 rows × 27 columns</p>\n",
       "</div>"
      ],
      "text/plain": [
       "   Store No.          Date      Time  Millisecond  U-1-Total  I-1-Total  \\\n",
       "1          1    2022/04/04  12:02:59          354    120.640     20.793   \n",
       "2          2    2022/04/04  12:02:59          854    120.637     20.760   \n",
       "3          3    2022/04/04  12:03:00          353    120.642     20.777   \n",
       "4          4    2022/04/04  12:03:00          852    120.634     20.789   \n",
       "5          5    2022/04/04  12:03:01          353    120.624     20.806   \n",
       "\n",
       "   P-1-Total  S-1-Total  Q-1-Total  PF-1-Total  ...  CfU-1-Total  CfI-1-Total  \\\n",
       "1     2510.0     2510.0      -41.2     0.99986  ...          NaN          NaN   \n",
       "2     2500.0     2500.0      -42.5     0.99986  ...          NaN          NaN   \n",
       "3     2500.0     2500.0      -40.8     0.99987  ...          NaN          NaN   \n",
       "4     2500.0     2510.0      -41.8     0.99986  ...          NaN          NaN   \n",
       "5     2510.0     2510.0      -42.0     0.99986  ...          NaN          NaN   \n",
       "\n",
       "   I-2-Total  P-2-Total  S-2-Total  Q-2-Total  PF-2-Total  Phi-2-Total  \\\n",
       "1     20.870     2520.0     2520.0      -33.2     0.99991       -0.757   \n",
       "2     20.898     2520.0     2520.0      -33.2     0.99991       -0.754   \n",
       "3     20.867     2510.0     2510.0      -32.8     0.99992       -0.747   \n",
       "4     20.886     2520.0     2520.0      -32.3     0.99992       -0.736   \n",
       "5     20.876     2520.0     2520.0      -34.8     0.99990       -0.792   \n",
       "\n",
       "   FreqU-2-Total  FreqI-2-Total  \n",
       "1         60.001         59.996  \n",
       "2         60.002         60.004  \n",
       "3         60.001         59.999  \n",
       "4         60.000         59.999  \n",
       "5         60.002         59.998  \n",
       "\n",
       "[5 rows x 27 columns]"
      ]
     },
     "execution_count": 2,
     "metadata": {},
     "output_type": "execute_result"
    }
   ],
   "source": [
    "wt_full_sample = 'C:\\\\Users\\\\ecountrywood\\\\dev\\\\pandas\\\\data\\\\PA_sample_data.csv'\n",
    "wt_short_sample = 'C:\\\\Users\\\\ecountrywood\\\\dev\\\\pandas\\\\data\\\\PA_sample_data_short.csv'\n",
    "wt_micro_sample = \"C:\\\\Users\\\\ecountrywood\\\\dev\\\\pandas\\\\data\\\\PA_micro.csv\"\n",
    "vv_data_sample = \"C:\\\\Users\\\\ecountrywood\\\\dev\\\\pandas\\\\data\\\\volt-var\\\\EUT_20_2.csv\"\n",
    "watt_var_sample = \"C:\\\\Users\\\\ecountrywood\\\\dev\\\\pandas\\\\data\\\\watt-var\\\\eut_100.csv\"\n",
    "volt_watt_sample = \"C:\\\\Users\\\\ecountrywood\\\\dev\\\\pandas\\\\data\\\\volt-watt\\\\VW_CH1_100_sample_fix.csv\"\n",
    "\n",
    "df = Wt_Importer(volt_watt_sample).df\n",
    "df.head()"
   ]
  },
  {
   "cell_type": "markdown",
   "metadata": {},
   "source": [
    "Begin working with the dataframe:\n",
    "- take a subset of the columns"
   ]
  },
  {
   "cell_type": "code",
   "execution_count": 3,
   "metadata": {},
   "outputs": [],
   "source": [
    "\n",
    "df['sumV'] = df['U-1-Total'] + df['U-2-Total']\n",
    "df['sumP'] = df['P-1-Total'] + df['P-2-Total']"
   ]
  },
  {
   "cell_type": "markdown",
   "metadata": {},
   "source": [
    "Extract X and Y timeseries"
   ]
  },
  {
   "cell_type": "code",
   "execution_count": 4,
   "metadata": {},
   "outputs": [],
   "source": [
    "vx = df['sumV'].to_numpy(dtype=float, copy=True)   # Voltage Timeseries\n",
    "vy = df['sumP'].to_numpy(dtype=float, copy=True)   # Var Timeseries"
   ]
  },
  {
   "cell_type": "markdown",
   "metadata": {},
   "source": [
    "Downsample for easier stepfinding"
   ]
  },
  {
   "cell_type": "code",
   "execution_count": 5,
   "metadata": {},
   "outputs": [],
   "source": [
    "n = 1# take every 10th sample\n",
    "vx = vx[::n] \n",
    "vy = vy[::n]"
   ]
  },
  {
   "cell_type": "code",
   "execution_count": 6,
   "metadata": {},
   "outputs": [
    {
     "data": {
      "text/plain": [
       "[<matplotlib.lines.Line2D at 0x1f278c67a30>]"
      ]
     },
     "execution_count": 6,
     "metadata": {},
     "output_type": "execute_result"
    },
    {
     "data": {
      "image/png": "[encoded data removed]",
      "text/plain": [
       "<Figure size 432x288 with 2 Axes>"
      ]
     },
     "metadata": {
      "needs_background": "light"
     },
     "output_type": "display_data"
    }
   ],
   "source": [
    "\n",
    "# https://matplotlib.org/stable/api/_as_gen/matplotlib.pyplot.subplots.html#matplotlib.pyplot.subplots\n",
    "fig, (ax1, ax2) = plt.subplots(2, 1)\n",
    "ax1.figsize=(16,2); ax2.figsize=(16,2)\n",
    "ax1.plot(vx); ax2.plot(vy)"
   ]
  },
  {
   "cell_type": "markdown",
   "metadata": {},
   "source": [
    "# Step finding"
   ]
  },
  {
   "cell_type": "markdown",
   "metadata": {},
   "source": [
    "numpy.diff()"
   ]
  },
  {
   "cell_type": "code",
   "execution_count": 7,
   "metadata": {},
   "outputs": [
    {
     "data": {
      "text/plain": [
       "[<matplotlib.lines.Line2D at 0x1f27ae768f0>]"
      ]
     },
     "execution_count": 7,
     "metadata": {},
     "output_type": "execute_result"
    },
    {
     "data": {
      "image/png": "[encoded data removed]",
      "text/plain": [
       "<Figure size 1152x144 with 1 Axes>"
      ]
     },
     "metadata": {
      "needs_background": "light"
     },
     "output_type": "display_data"
    }
   ],
   "source": [
    "vxdif = np.abs(np.diff(vx, append=vx[0] ))\n",
    "plt.figure(figsize=(16,2))\n",
    "plt.stem(vxdif)\n",
    "plt.plot(vx)"
   ]
  },
  {
   "cell_type": "markdown",
   "metadata": {},
   "source": [
    "create binary array where steps are represented by boolean(1)"
   ]
  },
  {
   "cell_type": "code",
   "execution_count": 8,
   "metadata": {},
   "outputs": [
    {
     "data": {
      "text/plain": [
       "<StemContainer object of 3 artists>"
      ]
     },
     "execution_count": 8,
     "metadata": {},
     "output_type": "execute_result"
    },
    {
     "data": {
      "image/png": "[encoded data removed]",
      "text/plain": [
       "<Figure size 1152x144 with 1 Axes>"
      ]
     },
     "metadata": {
      "needs_background": "light"
     },
     "output_type": "display_data"
    }
   ],
   "source": [
    "vxbin = vxdif > 0.5\n",
    "plt.figure(figsize=(16,2))\n",
    "plt.stem(vxbin)"
   ]
  },
  {
   "cell_type": "markdown",
   "metadata": {},
   "source": [
    "Get the index of each change point and plot change poits over original timeseries"
   ]
  },
  {
   "cell_type": "code",
   "execution_count": 15,
   "metadata": {},
   "outputs": [
    {
     "data": {
      "image/png": "[encoded data removed]",
      "text/plain": [
       "<Figure size 1152x144 with 1 Axes>"
      ]
     },
     "metadata": {
      "needs_background": "light"
     },
     "output_type": "display_data"
    }
   ],
   "source": [
    "from Numpy_utils import plot_change_points \n",
    "\n",
    "change_points = np.where(vxbin==1)[0]\n",
    "plot_change_points(vx,change_points)"
   ]
  },
  {
   "cell_type": "code",
   "execution_count": 10,
   "metadata": {},
   "outputs": [
    {
     "name": "stdout",
     "output_type": "stream",
     "text": [
      "13\n"
     ]
    }
   ],
   "source": [
    "from Numpy_utils import get_change_points\n",
    "change_points\n",
    "print(len(change_points) -1)"
   ]
  },
  {
   "cell_type": "markdown",
   "metadata": {},
   "source": [
    "Get average value of each step in timeseries:\n",
    "- define a window (as percent of step length) \n",
    "- place the uppermost window edge at uppermost edge of each interval defined by change locations \n",
    "- take the mean of the timeseries values in the window"
   ]
  },
  {
   "cell_type": "code",
   "execution_count": 11,
   "metadata": {},
   "outputs": [
    {
     "name": "stdout",
     "output_type": "stream",
     "text": [
      "[ 38  78 118 158 198 238 277 317 356 396 436 476 516 556]\n"
     ]
    }
   ],
   "source": [
    "from Numpy_utils import get_step_values\n",
    "cp = get_change_points(vx, threshold=0.5) # stepss over half a volt\n",
    "print(cp)\n",
    "x_idxs, x_vals = get_step_values(vx,cp)\n",
    "y_idxs, y_vals = get_step_values(vy,cp)"
   ]
  },
  {
   "cell_type": "code",
   "execution_count": 14,
   "metadata": {},
   "outputs": [
    {
     "data": {
      "text/plain": [
       "<StemContainer object of 3 artists>"
      ]
     },
     "execution_count": 14,
     "metadata": {},
     "output_type": "execute_result"
    },
    {
     "data": {
      "image/png": "[encoded data removed]",
      "text/plain": [
       "<Figure size 1152x288 with 1 Axes>"
      ]
     },
     "metadata": {
      "needs_background": "light"
     },
     "output_type": "display_data"
    }
   ],
   "source": [
    "plt.figure(figsize=(16,4))\n",
    "plt.plot(vx)\n",
    "plt.stem(x_idxs,x_vals)\n",
    "plt.plot(vy)\n",
    "plt.stem(y_idxs,y_vals)"
   ]
  },
  {
   "cell_type": "code",
   "execution_count": 20,
   "metadata": {},
   "outputs": [
    {
     "data": {
      "text/html": [
       "<div>\n",
       "<style scoped>\n",
       "    .dataframe tbody tr th:only-of-type {\n",
       "        vertical-align: middle;\n",
       "    }\n",
       "\n",
       "    .dataframe tbody tr th {\n",
       "        vertical-align: top;\n",
       "    }\n",
       "\n",
       "    .dataframe thead th {\n",
       "        text-align: right;\n",
       "    }\n",
       "</style>\n",
       "<table border=\"1\" class=\"dataframe\">\n",
       "  <thead>\n",
       "    <tr style=\"text-align: right;\">\n",
       "      <th></th>\n",
       "      <th>x</th>\n",
       "      <th>y</th>\n",
       "    </tr>\n",
       "  </thead>\n",
       "  <tbody>\n",
       "    <tr>\n",
       "      <th>0</th>\n",
       "      <td>216</td>\n",
       "      <td>5020</td>\n",
       "    </tr>\n",
       "    <tr>\n",
       "      <th>1</th>\n",
       "      <td>252</td>\n",
       "      <td>4985</td>\n",
       "    </tr>\n",
       "    <tr>\n",
       "      <th>2</th>\n",
       "      <td>258</td>\n",
       "      <td>3691</td>\n",
       "    </tr>\n",
       "    <tr>\n",
       "      <th>3</th>\n",
       "      <td>259</td>\n",
       "      <td>3116</td>\n",
       "    </tr>\n",
       "    <tr>\n",
       "      <th>4</th>\n",
       "      <td>261</td>\n",
       "      <td>2528</td>\n",
       "    </tr>\n",
       "    <tr>\n",
       "      <th>5</th>\n",
       "      <td>267</td>\n",
       "      <td>192</td>\n",
       "    </tr>\n",
       "    <tr>\n",
       "      <th>6</th>\n",
       "      <td>261</td>\n",
       "      <td>2541</td>\n",
       "    </tr>\n",
       "    <tr>\n",
       "      <th>7</th>\n",
       "      <td>267</td>\n",
       "      <td>193</td>\n",
       "    </tr>\n",
       "    <tr>\n",
       "      <th>8</th>\n",
       "      <td>261</td>\n",
       "      <td>2566</td>\n",
       "    </tr>\n",
       "    <tr>\n",
       "      <th>9</th>\n",
       "      <td>259</td>\n",
       "      <td>3143</td>\n",
       "    </tr>\n",
       "    <tr>\n",
       "      <th>10</th>\n",
       "      <td>258</td>\n",
       "      <td>3716</td>\n",
       "    </tr>\n",
       "    <tr>\n",
       "      <th>11</th>\n",
       "      <td>251</td>\n",
       "      <td>5004</td>\n",
       "    </tr>\n",
       "    <tr>\n",
       "      <th>12</th>\n",
       "      <td>216</td>\n",
       "      <td>5020</td>\n",
       "    </tr>\n",
       "  </tbody>\n",
       "</table>\n",
       "</div>"
      ],
      "text/plain": [
       "      x     y\n",
       "0   216  5020\n",
       "1   252  4985\n",
       "2   258  3691\n",
       "3   259  3116\n",
       "4   261  2528\n",
       "5   267   192\n",
       "6   261  2541\n",
       "7   267   193\n",
       "8   261  2566\n",
       "9   259  3143\n",
       "10  258  3716\n",
       "11  251  5004\n",
       "12  216  5020"
      ]
     },
     "execution_count": 20,
     "metadata": {},
     "output_type": "execute_result"
    }
   ],
   "source": [
    "DFXY = pd.DataFrame({'x': x_vals,\n",
    "                   'y': y_vals})\n",
    "DFXY"
   ]
  },
  {
   "cell_type": "code",
   "execution_count": 74,
   "metadata": {},
   "outputs": [
    {
     "data": {
      "text/html": [
       "<div>\n",
       "<style scoped>\n",
       "    .dataframe tbody tr th:only-of-type {\n",
       "        vertical-align: middle;\n",
       "    }\n",
       "\n",
       "    .dataframe tbody tr th {\n",
       "        vertical-align: top;\n",
       "    }\n",
       "\n",
       "    .dataframe thead th {\n",
       "        text-align: right;\n",
       "    }\n",
       "</style>\n",
       "<table border=\"1\" class=\"dataframe\">\n",
       "  <thead>\n",
       "    <tr style=\"text-align: right;\">\n",
       "      <th></th>\n",
       "      <th>xmin</th>\n",
       "      <th>x</th>\n",
       "      <th>xmax</th>\n",
       "      <th>ymin</th>\n",
       "      <th>y</th>\n",
       "      <th>ymax</th>\n",
       "      <th>pass</th>\n",
       "    </tr>\n",
       "  </thead>\n",
       "  <tbody>\n",
       "    <tr>\n",
       "      <th>0</th>\n",
       "      <td>213.6</td>\n",
       "      <td>216</td>\n",
       "      <td>218.4</td>\n",
       "      <td>4770.0</td>\n",
       "      <td>5020</td>\n",
       "      <td>5270.0</td>\n",
       "      <td>True</td>\n",
       "    </tr>\n",
       "    <tr>\n",
       "      <th>1</th>\n",
       "      <td>249.6</td>\n",
       "      <td>252</td>\n",
       "      <td>254.4</td>\n",
       "      <td>4735.0</td>\n",
       "      <td>4985</td>\n",
       "      <td>5235.0</td>\n",
       "      <td>True</td>\n",
       "    </tr>\n",
       "    <tr>\n",
       "      <th>2</th>\n",
       "      <td>255.6</td>\n",
       "      <td>258</td>\n",
       "      <td>260.4</td>\n",
       "      <td>3441.0</td>\n",
       "      <td>3691</td>\n",
       "      <td>3941.0</td>\n",
       "      <td>True</td>\n",
       "    </tr>\n",
       "    <tr>\n",
       "      <th>3</th>\n",
       "      <td>256.6</td>\n",
       "      <td>259</td>\n",
       "      <td>261.4</td>\n",
       "      <td>2866.0</td>\n",
       "      <td>3116</td>\n",
       "      <td>3366.0</td>\n",
       "      <td>True</td>\n",
       "    </tr>\n",
       "    <tr>\n",
       "      <th>4</th>\n",
       "      <td>258.6</td>\n",
       "      <td>261</td>\n",
       "      <td>263.4</td>\n",
       "      <td>2278.0</td>\n",
       "      <td>2528</td>\n",
       "      <td>2778.0</td>\n",
       "      <td>True</td>\n",
       "    </tr>\n",
       "    <tr>\n",
       "      <th>5</th>\n",
       "      <td>264.6</td>\n",
       "      <td>267</td>\n",
       "      <td>269.4</td>\n",
       "      <td>-58.0</td>\n",
       "      <td>192</td>\n",
       "      <td>442.0</td>\n",
       "      <td>True</td>\n",
       "    </tr>\n",
       "    <tr>\n",
       "      <th>6</th>\n",
       "      <td>258.6</td>\n",
       "      <td>261</td>\n",
       "      <td>263.4</td>\n",
       "      <td>2291.0</td>\n",
       "      <td>2541</td>\n",
       "      <td>2791.0</td>\n",
       "      <td>True</td>\n",
       "    </tr>\n",
       "    <tr>\n",
       "      <th>7</th>\n",
       "      <td>264.6</td>\n",
       "      <td>267</td>\n",
       "      <td>269.4</td>\n",
       "      <td>-57.0</td>\n",
       "      <td>193</td>\n",
       "      <td>443.0</td>\n",
       "      <td>True</td>\n",
       "    </tr>\n",
       "    <tr>\n",
       "      <th>8</th>\n",
       "      <td>258.6</td>\n",
       "      <td>261</td>\n",
       "      <td>263.4</td>\n",
       "      <td>2316.0</td>\n",
       "      <td>2566</td>\n",
       "      <td>2816.0</td>\n",
       "      <td>True</td>\n",
       "    </tr>\n",
       "    <tr>\n",
       "      <th>9</th>\n",
       "      <td>256.6</td>\n",
       "      <td>259</td>\n",
       "      <td>261.4</td>\n",
       "      <td>2893.0</td>\n",
       "      <td>3143</td>\n",
       "      <td>3393.0</td>\n",
       "      <td>True</td>\n",
       "    </tr>\n",
       "    <tr>\n",
       "      <th>10</th>\n",
       "      <td>255.6</td>\n",
       "      <td>258</td>\n",
       "      <td>260.4</td>\n",
       "      <td>3466.0</td>\n",
       "      <td>3716</td>\n",
       "      <td>3966.0</td>\n",
       "      <td>True</td>\n",
       "    </tr>\n",
       "    <tr>\n",
       "      <th>11</th>\n",
       "      <td>248.6</td>\n",
       "      <td>251</td>\n",
       "      <td>253.4</td>\n",
       "      <td>4754.0</td>\n",
       "      <td>5004</td>\n",
       "      <td>5254.0</td>\n",
       "      <td>True</td>\n",
       "    </tr>\n",
       "    <tr>\n",
       "      <th>12</th>\n",
       "      <td>213.6</td>\n",
       "      <td>216</td>\n",
       "      <td>218.4</td>\n",
       "      <td>4770.0</td>\n",
       "      <td>5020</td>\n",
       "      <td>5270.0</td>\n",
       "      <td>True</td>\n",
       "    </tr>\n",
       "  </tbody>\n",
       "</table>\n",
       "</div>"
      ],
      "text/plain": [
       "     xmin    x   xmax    ymin     y    ymax  pass\n",
       "0   213.6  216  218.4  4770.0  5020  5270.0  True\n",
       "1   249.6  252  254.4  4735.0  4985  5235.0  True\n",
       "2   255.6  258  260.4  3441.0  3691  3941.0  True\n",
       "3   256.6  259  261.4  2866.0  3116  3366.0  True\n",
       "4   258.6  261  263.4  2278.0  2528  2778.0  True\n",
       "5   264.6  267  269.4   -58.0   192   442.0  True\n",
       "6   258.6  261  263.4  2291.0  2541  2791.0  True\n",
       "7   264.6  267  269.4   -57.0   193   443.0  True\n",
       "8   258.6  261  263.4  2316.0  2566  2816.0  True\n",
       "9   256.6  259  261.4  2893.0  3143  3393.0  True\n",
       "10  255.6  258  260.4  3466.0  3716  3966.0  True\n",
       "11  248.6  251  253.4  4754.0  5004  5254.0  True\n",
       "12  213.6  216  218.4  4770.0  5020  5270.0  True"
      ]
     },
     "execution_count": 74,
     "metadata": {},
     "output_type": "execute_result"
    }
   ],
   "source": [
    "percent_x_tol = 0.01; percent_y_tol = 0.05\n",
    "xn = 240; yn = 5000\n",
    "x_tol = percent_x_tol*xn; y_tol = percent_y_tol*yn\n",
    "\n",
    "\n",
    "D = pd.DataFrame({\n",
    "                    'xmin': (DFXY.x)-x_tol,\n",
    "                    'x': (DFXY.x),\n",
    "                    'xmax': (DFXY.x)+x_tol,\n",
    "                    'ymin': (DFXY.y)-y_tol,\n",
    "                    'y': (DFXY.y),\n",
    "                    'ymax': (DFXY.y)+y_tol           \n",
    "                     })\n",
    "D['pass'] = ((D.x > D.xmin) & (D.x < D.xmax) & (D.y > D.ymin) & (D.y < D.ymax))\n",
    "D\n"
   ]
  }
 ],
 "metadata": {
  "kernelspec": {
   "display_name": "Python 3.10.2 64-bit",
   "language": "python",
   "name": "python3"
  },
  "language_info": {
   "codemirror_mode": {
    "name": "ipython",
    "version": 3
   },
   "file_extension": ".py",
   "mimetype": "text/x-python",
   "name": "python",
   "nbconvert_exporter": "python",
   "pygments_lexer": "ipython3",
   "version": "3.10.2"
  },
  "orig_nbformat": 4,
  "vscode": {
   "interpreter": {
    "hash": "369f2c481f4da34e4445cda3fffd2e751bd1c4d706f27375911949ba6bb62e1c"
   }
  }
 },
 "nbformat": 4,
 "nbformat_minor": 2
}
