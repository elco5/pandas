{
 "cells": [
  {
   "cell_type": "markdown",
   "metadata": {},
   "source": [
    "https://pandas.pydata.org/docs/user_guide/10min.html"
   ]
  },
  {
   "cell_type": "code",
   "execution_count": 1,
   "metadata": {},
   "outputs": [],
   "source": [
    "import pandas as pd\n",
    "import numpy as np\n",
    "import matplotlib.pyplot as plt\n",
    "\n",
    "from wt_import import Wt_Importer\n"
   ]
  },
  {
   "cell_type": "markdown",
   "metadata": {},
   "source": [
    "Set file for analysis"
   ]
  },
  {
   "cell_type": "code",
   "execution_count": 2,
   "metadata": {},
   "outputs": [
    {
     "data": {
      "text/html": [
       "<div>\n",
       "<style scoped>\n",
       "    .dataframe tbody tr th:only-of-type {\n",
       "        vertical-align: middle;\n",
       "    }\n",
       "\n",
       "    .dataframe tbody tr th {\n",
       "        vertical-align: top;\n",
       "    }\n",
       "\n",
       "    .dataframe thead th {\n",
       "        text-align: right;\n",
       "    }\n",
       "</style>\n",
       "<table border=\"1\" class=\"dataframe\">\n",
       "  <thead>\n",
       "    <tr style=\"text-align: right;\">\n",
       "      <th></th>\n",
       "      <th>Store No.</th>\n",
       "      <th>Date</th>\n",
       "      <th>Time</th>\n",
       "      <th>Millisecond</th>\n",
       "      <th>U-1-Total</th>\n",
       "      <th>I-1-Total</th>\n",
       "      <th>P-1-Total</th>\n",
       "      <th>S-1-Total</th>\n",
       "      <th>Q-1-Total</th>\n",
       "      <th>PF-1-Total</th>\n",
       "      <th>...</th>\n",
       "      <th>CfI-1-Total</th>\n",
       "      <th>U-2-Total</th>\n",
       "      <th>I-2-Total</th>\n",
       "      <th>P-2-Total</th>\n",
       "      <th>S-2-Total</th>\n",
       "      <th>Q-2-Total</th>\n",
       "      <th>PF-2-Total</th>\n",
       "      <th>Phi-2-Total</th>\n",
       "      <th>FreqU-2-Total</th>\n",
       "      <th>FreqI-2-Total</th>\n",
       "    </tr>\n",
       "  </thead>\n",
       "  <tbody>\n",
       "    <tr>\n",
       "      <th>1</th>\n",
       "      <td>1</td>\n",
       "      <td>2022/04/28</td>\n",
       "      <td>10:21:35</td>\n",
       "      <td>644</td>\n",
       "      <td>120.086</td>\n",
       "      <td>0.413</td>\n",
       "      <td>48.5</td>\n",
       "      <td>49.6</td>\n",
       "      <td>-10.6</td>\n",
       "      <td>0.97678</td>\n",
       "      <td>...</td>\n",
       "      <td>NaN</td>\n",
       "      <td>120.004</td>\n",
       "      <td>0.368</td>\n",
       "      <td>41.6</td>\n",
       "      <td>44.2</td>\n",
       "      <td>-14.9</td>\n",
       "      <td>0.94119</td>\n",
       "      <td>-19.747</td>\n",
       "      <td>60.002</td>\n",
       "      <td>NaN</td>\n",
       "    </tr>\n",
       "    <tr>\n",
       "      <th>2</th>\n",
       "      <td>2</td>\n",
       "      <td>2022/04/28</td>\n",
       "      <td>10:21:36</td>\n",
       "      <td>148</td>\n",
       "      <td>120.093</td>\n",
       "      <td>0.426</td>\n",
       "      <td>50.0</td>\n",
       "      <td>51.1</td>\n",
       "      <td>-10.9</td>\n",
       "      <td>0.97692</td>\n",
       "      <td>...</td>\n",
       "      <td>NaN</td>\n",
       "      <td>120.050</td>\n",
       "      <td>0.375</td>\n",
       "      <td>42.8</td>\n",
       "      <td>45.0</td>\n",
       "      <td>-14.0</td>\n",
       "      <td>0.95004</td>\n",
       "      <td>-18.188</td>\n",
       "      <td>60.001</td>\n",
       "      <td>NaN</td>\n",
       "    </tr>\n",
       "    <tr>\n",
       "      <th>3</th>\n",
       "      <td>3</td>\n",
       "      <td>2022/04/28</td>\n",
       "      <td>10:21:36</td>\n",
       "      <td>649</td>\n",
       "      <td>120.080</td>\n",
       "      <td>0.423</td>\n",
       "      <td>49.0</td>\n",
       "      <td>50.9</td>\n",
       "      <td>-13.7</td>\n",
       "      <td>0.96298</td>\n",
       "      <td>...</td>\n",
       "      <td>NaN</td>\n",
       "      <td>120.012</td>\n",
       "      <td>0.379</td>\n",
       "      <td>42.8</td>\n",
       "      <td>45.5</td>\n",
       "      <td>-15.6</td>\n",
       "      <td>0.93976</td>\n",
       "      <td>-19.988</td>\n",
       "      <td>60.001</td>\n",
       "      <td>NaN</td>\n",
       "    </tr>\n",
       "    <tr>\n",
       "      <th>4</th>\n",
       "      <td>4</td>\n",
       "      <td>2022/04/28</td>\n",
       "      <td>10:21:37</td>\n",
       "      <td>150</td>\n",
       "      <td>120.087</td>\n",
       "      <td>0.418</td>\n",
       "      <td>49.0</td>\n",
       "      <td>50.2</td>\n",
       "      <td>-11.0</td>\n",
       "      <td>0.97558</td>\n",
       "      <td>...</td>\n",
       "      <td>NaN</td>\n",
       "      <td>119.989</td>\n",
       "      <td>0.371</td>\n",
       "      <td>41.6</td>\n",
       "      <td>44.5</td>\n",
       "      <td>-15.9</td>\n",
       "      <td>0.93419</td>\n",
       "      <td>-20.902</td>\n",
       "      <td>60.001</td>\n",
       "      <td>NaN</td>\n",
       "    </tr>\n",
       "    <tr>\n",
       "      <th>5</th>\n",
       "      <td>5</td>\n",
       "      <td>2022/04/28</td>\n",
       "      <td>10:21:37</td>\n",
       "      <td>695</td>\n",
       "      <td>120.098</td>\n",
       "      <td>0.421</td>\n",
       "      <td>49.2</td>\n",
       "      <td>50.5</td>\n",
       "      <td>-11.5</td>\n",
       "      <td>0.97379</td>\n",
       "      <td>...</td>\n",
       "      <td>NaN</td>\n",
       "      <td>120.019</td>\n",
       "      <td>0.362</td>\n",
       "      <td>41.3</td>\n",
       "      <td>43.5</td>\n",
       "      <td>-13.5</td>\n",
       "      <td>0.95061</td>\n",
       "      <td>-18.083</td>\n",
       "      <td>60.002</td>\n",
       "      <td>NaN</td>\n",
       "    </tr>\n",
       "  </tbody>\n",
       "</table>\n",
       "<p>5 rows × 28 columns</p>\n",
       "</div>"
      ],
      "text/plain": [
       "   Store No.          Date      Time  Millisecond  U-1-Total  I-1-Total  \\\n",
       "1          1    2022/04/28  10:21:35          644    120.086      0.413   \n",
       "2          2    2022/04/28  10:21:36          148    120.093      0.426   \n",
       "3          3    2022/04/28  10:21:36          649    120.080      0.423   \n",
       "4          4    2022/04/28  10:21:37          150    120.087      0.418   \n",
       "5          5    2022/04/28  10:21:37          695    120.098      0.421   \n",
       "\n",
       "   P-1-Total  S-1-Total  Q-1-Total  PF-1-Total  ...  CfI-1-Total  U-2-Total  \\\n",
       "1       48.5       49.6      -10.6     0.97678  ...          NaN    120.004   \n",
       "2       50.0       51.1      -10.9     0.97692  ...          NaN    120.050   \n",
       "3       49.0       50.9      -13.7     0.96298  ...          NaN    120.012   \n",
       "4       49.0       50.2      -11.0     0.97558  ...          NaN    119.989   \n",
       "5       49.2       50.5      -11.5     0.97379  ...          NaN    120.019   \n",
       "\n",
       "   I-2-Total  P-2-Total  S-2-Total  Q-2-Total  PF-2-Total  Phi-2-Total  \\\n",
       "1      0.368       41.6       44.2      -14.9     0.94119      -19.747   \n",
       "2      0.375       42.8       45.0      -14.0     0.95004      -18.188   \n",
       "3      0.379       42.8       45.5      -15.6     0.93976      -19.988   \n",
       "4      0.371       41.6       44.5      -15.9     0.93419      -20.902   \n",
       "5      0.362       41.3       43.5      -13.5     0.95061      -18.083   \n",
       "\n",
       "   FreqU-2-Total  FreqI-2-Total  \n",
       "1         60.002            NaN  \n",
       "2         60.001            NaN  \n",
       "3         60.001            NaN  \n",
       "4         60.001            NaN  \n",
       "5         60.002            NaN  \n",
       "\n",
       "[5 rows x 28 columns]"
      ]
     },
     "execution_count": 2,
     "metadata": {},
     "output_type": "execute_result"
    }
   ],
   "source": [
    "wt_full_sample = 'C:\\\\Users\\\\ecountrywood\\\\dev\\\\pandas\\\\data\\\\PA_sample_data.csv'\n",
    "wt_short_sample = 'C:\\\\Users\\\\ecountrywood\\\\dev\\\\pandas\\\\data\\\\PA_sample_data_short.csv'\n",
    "wt_micro_sample = \"C:\\\\Users\\\\ecountrywood\\\\dev\\\\pandas\\\\data\\\\PA_micro.csv\"\n",
    "vv_data_sample = \"C:\\\\Users\\\\ecountrywood\\\\dev\\\\pandas\\\\data\\\\volt-var\\\\EUT_20_2.csv\"\n",
    "watt_var_sample = \"C:\\\\Users\\\\ecountrywood\\\\dev\\\\pandas\\\\data\\\\watt-var\\\\eut_100.csv\"\n",
    "\n",
    "df = Wt_Importer(watt_var_sample).df\n",
    "df.head()"
   ]
  },
  {
   "cell_type": "markdown",
   "metadata": {},
   "source": [
    "Begin working with the dataframe:\n",
    "- take a subset of the columns\n",
    "- take phase 1 voltage and total reactive power"
   ]
  },
  {
   "cell_type": "code",
   "execution_count": 6,
   "metadata": {},
   "outputs": [
    {
     "data": {
      "text/plain": [
       "1   -25.5\n",
       "2   -24.9\n",
       "3   -29.3\n",
       "4   -26.9\n",
       "5   -25.0\n",
       "Name: sumQ, dtype: float64"
      ]
     },
     "execution_count": 6,
     "metadata": {},
     "output_type": "execute_result"
    }
   ],
   "source": [
    "# df_cols_1_2 = df[['U-1-Total','Q-SigmaA-Total']]\n",
    "# df_VQ = df_cols_1_2.rename(columns= {\"U-1-Total\":\"V1\",\"Q-SigmaA-Total\":\"Q_total\"})\n",
    "# df_VQ.head(3)\n",
    "df['sumQ'] = df['Q-1-Total'] + df['Q-2-Total']\n",
    "df['sumQ'].head()\n",
    "\n",
    "# print(df['Q-1-Total'].iloc[0])"
   ]
  },
  {
   "cell_type": "markdown",
   "metadata": {},
   "source": [
    "Extract Voltage and Vars timeseries"
   ]
  },
  {
   "cell_type": "code",
   "execution_count": 5,
   "metadata": {},
   "outputs": [
    {
     "ename": "NameError",
     "evalue": "name 'df_VQ' is not defined",
     "output_type": "error",
     "traceback": [
      "\u001b[1;31m---------------------------------------------------------------------------\u001b[0m",
      "\u001b[1;31mNameError\u001b[0m                                 Traceback (most recent call last)",
      "\u001b[1;32mc:\\Users\\ecountrywood\\dev\\pandas\\wt_viewer.ipynb Cell 9\u001b[0m in \u001b[0;36m<module>\u001b[1;34m\u001b[0m\n\u001b[1;32m----> <a href='vscode-notebook-cell:/c%3A/Users/ecountrywood/dev/pandas/wt_viewer.ipynb#ch0000007?line=0'>1</a>\u001b[0m vs \u001b[39m=\u001b[39m df_VQ[\u001b[39m'\u001b[39m\u001b[39mV1\u001b[39m\u001b[39m'\u001b[39m]\u001b[39m.\u001b[39mto_numpy(dtype\u001b[39m=\u001b[39m\u001b[39mfloat\u001b[39m, copy\u001b[39m=\u001b[39m\u001b[39mTrue\u001b[39;00m)   \u001b[39m# Voltage Timeseries\u001b[39;00m\n\u001b[0;32m      <a href='vscode-notebook-cell:/c%3A/Users/ecountrywood/dev/pandas/wt_viewer.ipynb#ch0000007?line=1'>2</a>\u001b[0m vq \u001b[39m=\u001b[39m df_VQ[\u001b[39m'\u001b[39m\u001b[39mQ_total\u001b[39m\u001b[39m'\u001b[39m]\u001b[39m.\u001b[39mto_numpy(dtype\u001b[39m=\u001b[39m\u001b[39mfloat\u001b[39m, copy\u001b[39m=\u001b[39m\u001b[39mTrue\u001b[39;00m)\n",
      "\u001b[1;31mNameError\u001b[0m: name 'df_VQ' is not defined"
     ]
    }
   ],
   "source": [
    "vs = df_VQ['V1'].to_numpy(dtype=float, copy=True)   # Voltage Timeseries\n",
    "vq = df_VQ['Q_total'].to_numpy(dtype=float, copy=True)   # Var Timeseries"
   ]
  },
  {
   "cell_type": "code",
   "execution_count": null,
   "metadata": {},
   "outputs": [
    {
     "data": {
      "text/plain": [
       "[<matplotlib.lines.Line2D at 0x277cff898d0>]"
      ]
     },
     "execution_count": 33,
     "metadata": {},
     "output_type": "execute_result"
    },
    {
     "data": {
      "image/png": "[encoded data removed]",
      "text/plain": [
       "<Figure size 432x288 with 2 Axes>"
      ]
     },
     "metadata": {
      "needs_background": "light"
     },
     "output_type": "display_data"
    }
   ],
   "source": [
    "\n",
    "# https://matplotlib.org/stable/api/_as_gen/matplotlib.pyplot.subplots.html#matplotlib.pyplot.subplots\n",
    "fig, (ax1, ax2) = plt.subplots(2, 1)\n",
    "ax1.figsize=(16,2); ax2.figsize=(16,2)\n",
    "ax1.plot(vs); ax2.plot(vq)"
   ]
  },
  {
   "cell_type": "markdown",
   "metadata": {},
   "source": [
    "# Step finding\n",
    "numpy.gradient() - keeping here for future cases where identifying edges of change `interval` is important"
   ]
  },
  {
   "cell_type": "code",
   "execution_count": null,
   "metadata": {},
   "outputs": [],
   "source": [
    "vgrad = np.gradient(vs)\n",
    "# plt.figure(figsize=(16,2))\n",
    "# plt.stem(vgrad[0:50])"
   ]
  },
  {
   "cell_type": "markdown",
   "metadata": {},
   "source": [
    "numpy.diff()"
   ]
  },
  {
   "cell_type": "code",
   "execution_count": null,
   "metadata": {},
   "outputs": [
    {
     "data": {
      "text/plain": [
       "[<matplotlib.lines.Line2D at 0x277d005f760>]"
      ]
     },
     "execution_count": 35,
     "metadata": {},
     "output_type": "execute_result"
    },
    {
     "data": {
      "image/png": "[encoded data removed]",
      "text/plain": [
       "<Figure size 1152x144 with 1 Axes>"
      ]
     },
     "metadata": {
      "needs_background": "light"
     },
     "output_type": "display_data"
    }
   ],
   "source": [
    "vdif = np.abs(np.diff(vs, append=vs[0] ))\n",
    "plt.figure(figsize=(16,2))\n",
    "plt.stem(vdif)\n",
    "plt.plot(vs-200)\n",
    "# plt.stem(vdif[0:20]) # first 20 samples of difference array"
   ]
  },
  {
   "cell_type": "markdown",
   "metadata": {},
   "source": [
    "create binary array where steps are represented by boolean(1)"
   ]
  },
  {
   "cell_type": "code",
   "execution_count": null,
   "metadata": {},
   "outputs": [
    {
     "data": {
      "text/plain": [
       "<StemContainer object of 3 artists>"
      ]
     },
     "execution_count": 36,
     "metadata": {},
     "output_type": "execute_result"
    },
    {
     "data": {
      "image/png": "[encoded data removed]",
      "text/plain": [
       "<Figure size 1152x144 with 1 Axes>"
      ]
     },
     "metadata": {
      "needs_background": "light"
     },
     "output_type": "display_data"
    }
   ],
   "source": [
    "vbin = vdif > 1\n",
    "plt.figure(figsize=(16,2))\n",
    "plt.stem(vbin)"
   ]
  },
  {
   "cell_type": "markdown",
   "metadata": {},
   "source": [
    "Get the index of each change point and plot change poits over original timeseries"
   ]
  },
  {
   "cell_type": "code",
   "execution_count": null,
   "metadata": {},
   "outputs": [
    {
     "data": {
      "image/png": "[encoded data removed]",
      "text/plain": [
       "<Figure size 1152x144 with 1 Axes>"
      ]
     },
     "metadata": {
      "needs_background": "light"
     },
     "output_type": "display_data"
    }
   ],
   "source": [
    "from Numpy_utils import plot_change_points \n",
    "\n",
    "change_points = np.where(vbin)[0]\n",
    "plot_change_points(vs,change_points)"
   ]
  },
  {
   "cell_type": "code",
   "execution_count": null,
   "metadata": {},
   "outputs": [
    {
     "data": {
      "text/plain": [
       "array([ 13,  33,  53,  73,  93, 113, 133, 153, 173, 193, 213, 233, 253,\n",
       "       273, 293], dtype=int64)"
      ]
     },
     "execution_count": 38,
     "metadata": {},
     "output_type": "execute_result"
    }
   ],
   "source": [
    "from Numpy_utils import get_change_points\n",
    "change_points"
   ]
  },
  {
   "cell_type": "markdown",
   "metadata": {},
   "source": [
    "Get average value of each step in timeseries:\n",
    "- define a window (as percent of step length) \n",
    "- place the uppermost window edge at uppermost edge of each interval defined by change locations \n",
    "- take the mean of the timeseries values in the window"
   ]
  },
  {
   "cell_type": "code",
   "execution_count": null,
   "metadata": {},
   "outputs": [],
   "source": [
    "from Numpy_utils import get_step_values\n",
    "cp = get_change_points(vs)\n",
    "v_idxs, v_vals = get_step_values(vs,cp)\n",
    "q_idxs, q_vals = get_step_values(vq,cp)"
   ]
  },
  {
   "cell_type": "code",
   "execution_count": null,
   "metadata": {},
   "outputs": [
    {
     "data": {
      "text/plain": [
       "<StemContainer object of 3 artists>"
      ]
     },
     "execution_count": 40,
     "metadata": {},
     "output_type": "execute_result"
    },
    {
     "data": {
      "image/png": "[encoded data removed]",
      "text/plain": [
       "<Figure size 1152x288 with 1 Axes>"
      ]
     },
     "metadata": {
      "needs_background": "light"
     },
     "output_type": "display_data"
    }
   ],
   "source": [
    "plt.figure(figsize=(16,4))\n",
    "plt.plot(vs)\n",
    "plt.stem(v_idxs,v_vals)\n",
    "plt.plot(vq)\n",
    "plt.stem(q_idxs,q_vals)"
   ]
  },
  {
   "cell_type": "code",
   "execution_count": null,
   "metadata": {},
   "outputs": [
    {
     "data": {
      "text/html": [
       "<div>\n",
       "<style scoped>\n",
       "    .dataframe tbody tr th:only-of-type {\n",
       "        vertical-align: middle;\n",
       "    }\n",
       "\n",
       "    .dataframe tbody tr th {\n",
       "        vertical-align: top;\n",
       "    }\n",
       "\n",
       "    .dataframe thead th {\n",
       "        text-align: right;\n",
       "    }\n",
       "</style>\n",
       "<table border=\"1\" class=\"dataframe\">\n",
       "  <thead>\n",
       "    <tr style=\"text-align: right;\">\n",
       "      <th></th>\n",
       "      <th>volt</th>\n",
       "      <th>var</th>\n",
       "    </tr>\n",
       "  </thead>\n",
       "  <tbody>\n",
       "    <tr>\n",
       "      <th>0</th>\n",
       "      <td>227</td>\n",
       "      <td>0</td>\n",
       "    </tr>\n",
       "    <tr>\n",
       "      <th>1</th>\n",
       "      <td>236</td>\n",
       "      <td>0</td>\n",
       "    </tr>\n",
       "    <tr>\n",
       "      <th>2</th>\n",
       "      <td>245</td>\n",
       "      <td>0</td>\n",
       "    </tr>\n",
       "    <tr>\n",
       "      <th>3</th>\n",
       "      <td>254</td>\n",
       "      <td>0</td>\n",
       "    </tr>\n",
       "  </tbody>\n",
       "</table>\n",
       "</div>"
      ],
      "text/plain": [
       "   volt  var\n",
       "0   227    0\n",
       "1   236    0\n",
       "2   245    0\n",
       "3   254    0"
      ]
     },
     "execution_count": 41,
     "metadata": {},
     "output_type": "execute_result"
    }
   ],
   "source": [
    "VQ = pd.DataFrame({'volt': v_vals,\n",
    "                   'var': q_vals})\n",
    "VQ.head(4)"
   ]
  }
 ],
 "metadata": {
  "kernelspec": {
   "display_name": "Python 3.10.2 64-bit",
   "language": "python",
   "name": "python3"
  },
  "language_info": {
   "codemirror_mode": {
    "name": "ipython",
    "version": 3
   },
   "file_extension": ".py",
   "mimetype": "text/x-python",
   "name": "python",
   "nbconvert_exporter": "python",
   "pygments_lexer": "ipython3",
   "version": "3.10.2"
  },
  "orig_nbformat": 4,
  "vscode": {
   "interpreter": {
    "hash": "369f2c481f4da34e4445cda3fffd2e751bd1c4d706f27375911949ba6bb62e1c"
   }
  }
 },
 "nbformat": 4,
 "nbformat_minor": 2
}
